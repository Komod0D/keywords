{
 "cells": [
  {
   "cell_type": "code",
   "execution_count": 1,
   "metadata": {
    "collapsed": true
   },
   "outputs": [],
   "source": [
    "import scipy.sparse\n",
    "import matplotlib.pyplot as plt\n",
    "import numpy as np\n",
    "import pandas as pd\n",
    "from nltk.corpus import stopwords\n",
    "from sklearn.decomposition import TruncatedSVD\n",
    "from sklearn.feature_extraction.text import CountVectorizer, TfidfTransformer\n",
    "from sklearn.metrics import accuracy_score\n",
    "from sklearn.model_selection import train_test_split\n",
    "from sklearn.neighbors import KNeighborsClassifier\n",
    "import pickle\n",
    "import gc"
   ]
  },
  {
   "cell_type": "code",
   "execution_count": 2,
   "outputs": [
    {
     "name": "stdout",
     "output_type": "stream",
     "text": [
      "Loading data\n",
      "{'API': 44, 'Blockchain': 11, 'Compliance': 2, 'Data/ML': 28, 'Development': 162, 'HR': 15, 'Infrastructure': 147, 'Monetization': 3, 'Productivity': 34, 'UI': 97, 'Security': 25}\n"
     ]
    }
   ],
   "source": [
    "labels = [\"API\", \"Blockchain\", \"Compliance\", \"Data/ML\", \"Development\", \"HR\", \"Infrastructure\",\n",
    "          \"Monetization\", \"Productivity\", \"UI\", \"Security\"]\n",
    "\n",
    "print(\"Loading data\")\n",
    "labelled_df = pd.read_csv(\"labelled_old.csv\")\n",
    "\n",
    "labelled_df.dropna(axis=0, inplace=True, subset=[\"repo\", \"text\"])\n",
    "labelled_df.reset_index(inplace=True, drop=True)\n",
    "categories = [\" \".join(labelled_df[labelled_df[\"label\"] == label][\"text\"].tolist()) for label in labels]\n",
    "print({label: len(labelled_df[labelled_df[\"label\"] == label]) for label in labels})"
   ],
   "metadata": {
    "collapsed": false,
    "pycharm": {
     "name": "#%%\n"
    }
   }
  },
  {
   "cell_type": "code",
   "execution_count": null,
   "outputs": [],
   "source": [
    "unlabelled_df = pd.read_csv(\"unlabelled.csv\")\n",
    "# unlabelled_df.tail(-100).to_csv(\"unlabelled.csv\")\n",
    "unlabelled_df = unlabelled_df.head(100)\n",
    "unlabelled_df.dropna(axis=0, inplace=True, subset=[\"repo\", \"text\"])\n",
    "unlabelled_df.reset_index(drop=True, inplace=True)"
   ],
   "metadata": {
    "collapsed": false,
    "pycharm": {
     "name": "#%%\n",
     "is_executing": true
    }
   }
  },
  {
   "cell_type": "code",
   "execution_count": 3,
   "outputs": [],
   "source": [
    "unlabelled_df = pd.read_csv(\"unlabelled_all.csv\").tail(-100000)\n",
    "unlabelled_df.dropna(axis=0, inplace=True, subset=[\"repo\", \"text\"])\n",
    "unlabelled_df.reset_index(drop=True, inplace=True)"
   ],
   "metadata": {
    "collapsed": false,
    "pycharm": {
     "name": "#%%\n"
    }
   }
  },
  {
   "cell_type": "code",
   "execution_count": 4,
   "outputs": [
    {
     "name": "stdout",
     "output_type": "stream",
     "text": [
      "131174\n"
     ]
    },
    {
     "data": {
      "text/plain": "76"
     },
     "execution_count": 4,
     "metadata": {},
     "output_type": "execute_result"
    }
   ],
   "source": [
    "print(len(unlabelled_df))\n",
    "gc.collect()"
   ],
   "metadata": {
    "collapsed": false,
    "pycharm": {
     "name": "#%%\n"
    }
   }
  },
  {
   "cell_type": "code",
   "execution_count": 5,
   "outputs": [
    {
     "name": "stdout",
     "output_type": "stream",
     "text": [
      "Fitting CV & TFIDF\n",
      "Fitting CV\n",
      "Fitting TFIDF\n",
      "Transforming\n"
     ]
    }
   ],
   "source": [
    "print(\"Fitting CV & TFIDF\")\n",
    "\n",
    "corpus = labelled_df[\"text\"].append(unlabelled_df[\"text\"]).tolist()\n",
    "eng = stopwords.words(\"english\")\n",
    "\n",
    "cv = CountVectorizer(stop_words=eng, min_df=0.01, max_df=0.1)\n",
    "tfidf = TfidfTransformer()\n",
    "\n",
    "print(\"Fitting CV\")\n",
    "labelled_corpus = labelled_df[\"text\"].tolist()\n",
    "unlabelled_corpus = unlabelled_df[\"text\"].tolist()\n",
    "cv.fit(corpus)\n",
    "\n",
    "print(\"Fitting TFIDF\")\n",
    "arr = cv.transform(labelled_corpus)\n",
    "arr = tfidf.fit_transform(arr)\n",
    "\n",
    "print(\"Transforming\")\n",
    "unlabelled_arr = tfidf.transform(cv.transform(unlabelled_corpus))"
   ],
   "metadata": {
    "collapsed": false,
    "pycharm": {
     "name": "#%%\n"
    }
   }
  },
  {
   "cell_type": "code",
   "execution_count": 10,
   "outputs": [
    {
     "name": "stdout",
     "output_type": "stream",
     "text": [
      "Dimensionality Reduction\n",
      "Fitting SVD\n",
      "Explained variance with 400 components: 57.060628104373464%\n"
     ]
    }
   ],
   "source": [
    "print(\"Dimensionality Reduction\")\n",
    "n_components = 400\n",
    "svd = TruncatedSVD(n_components=n_components, n_iter=20)\n",
    "print(\"Fitting SVD\")\n",
    "svd.fit(scipy.sparse.vstack((arr, unlabelled_arr)))\n",
    "\n",
    "explained_variance = np.sum(svd.explained_variance_ratio_)\n",
    "print(f\"Explained variance with {n_components} components: {explained_variance * 100}%\")"
   ],
   "metadata": {
    "collapsed": false,
    "pycharm": {
     "name": "#%%\n"
    }
   }
  },
  {
   "cell_type": "code",
   "execution_count": 11,
   "outputs": [],
   "source": [
    "with open(\"others.svd\", \"wb\") as f:\n",
    "    pickle.dump(svd, f)"
   ],
   "metadata": {
    "collapsed": false,
    "pycharm": {
     "name": "#%%\n"
    }
   }
  },
  {
   "cell_type": "code",
   "execution_count": 6,
   "outputs": [],
   "source": [
    "with open(\"100000.svd\", \"rb\") as f:\n",
    "    svd = pickle.load(f)"
   ],
   "metadata": {
    "collapsed": false,
    "pycharm": {
     "name": "#%%\n"
    }
   }
  },
  {
   "cell_type": "code",
   "execution_count": 12,
   "outputs": [
    {
     "name": "stdout",
     "output_type": "stream",
     "text": [
      "Generating Dataset\n"
     ]
    }
   ],
   "source": [
    "print(\"Generating Dataset\")\n",
    "X = svd.transform(arr)\n",
    "Y = np.zeros(shape=(X.shape[0],))\n",
    "\n",
    "for i, row in labelled_df.iterrows():\n",
    "    label = row[\"label\"]\n",
    "    if not pd.isna(label):\n",
    "        Y[i] = labels.index(label)\n",
    "\n",
    "X_out = svd.transform(unlabelled_arr)"
   ],
   "metadata": {
    "collapsed": false,
    "pycharm": {
     "name": "#%%\n"
    }
   }
  },
  {
   "cell_type": "code",
   "execution_count": 13,
   "outputs": [
    {
     "name": "stdout",
     "output_type": "stream",
     "text": [
      "(570, 400)\n"
     ]
    }
   ],
   "source": [
    "print(X.shape)"
   ],
   "metadata": {
    "collapsed": false,
    "pycharm": {
     "name": "#%%\n"
    }
   }
  },
  {
   "cell_type": "code",
   "execution_count": null,
   "outputs": [],
   "source": [
    "min_train, min_test = 100, 20\n",
    "accuracies = []\n",
    "for n_train in range(min_train, len(X) - min_test):\n",
    "    X_train, X_test, Y_train, Y_test = train_test_split(X, Y, train_size=n_train)\n",
    "\n",
    "    classifier = KNeighborsClassifier(n_neighbors=5, weights=\"distance\")\n",
    "    classifier.fit(X_train, Y_train)\n",
    "\n",
    "    Y_pred = classifier.predict(X_test)\n",
    "\n",
    "    accuracy = accuracy_score(Y_test, Y_pred)\n",
    "    accuracies.append(accuracy)\n",
    "\n",
    "plt.plot(np.arange(min_train, len(X) - min_test), accuracies, \"r--\")\n",
    "plt.show()"
   ],
   "metadata": {
    "collapsed": false,
    "pycharm": {
     "name": "#%%\n",
     "is_executing": true
    }
   }
  },
  {
   "cell_type": "code",
   "execution_count": 14,
   "outputs": [
    {
     "name": "stdout",
     "output_type": "stream",
     "text": [
      "0.4666666666666667\n"
     ]
    }
   ],
   "source": [
    "X_train, X_test, Y_train, Y_test = train_test_split(X, Y, test_size=75)\n",
    "classifier = KNeighborsClassifier(n_neighbors=5, weights=\"distance\")\n",
    "classifier.fit(X_train, Y_train)\n",
    "Y_pred = classifier.predict(X_test)\n",
    "print(accuracy_score(Y_test, Y_pred))"
   ],
   "metadata": {
    "collapsed": false,
    "pycharm": {
     "name": "#%%\n"
    }
   }
  },
  {
   "cell_type": "code",
   "execution_count": null,
   "outputs": [],
   "source": [
    "plt.hist(Y)\n",
    "plt.show()"
   ],
   "metadata": {
    "collapsed": false,
    "pycharm": {
     "name": "#%%\n",
     "is_executing": true
    }
   }
  },
  {
   "cell_type": "code",
   "execution_count": 15,
   "outputs": [
    {
     "name": "stdout",
     "output_type": "stream",
     "text": [
      "Predicting\n"
     ]
    }
   ],
   "source": [
    "print(\"Predicting\")\n",
    "knn = KNeighborsClassifier(n_neighbors=5, weights=\"distance\")\n",
    "knn.fit(X, Y)\n",
    "\n",
    "Y_proba = knn.predict_proba(X_out)\n",
    "Y_pred = np.argmax(Y_proba, axis=1)\n",
    "Y_conf = np.max(Y_proba, axis=1)"
   ],
   "metadata": {
    "collapsed": false,
    "pycharm": {
     "name": "#%%\n"
    }
   }
  },
  {
   "cell_type": "code",
   "execution_count": 16,
   "outputs": [
    {
     "name": "stdout",
     "output_type": "stream",
     "text": [
      "36.411179044627744% \"low\" confidence\n"
     ]
    }
   ],
   "source": [
    "threshold = 0.401\n",
    "selection = Y_conf < threshold\n",
    "n_low_confidence = np.count_nonzero(selection) / len(Y_conf)\n",
    "print(f\"{n_low_confidence * 100}% \\\"low\\\" confidence\")"
   ],
   "metadata": {
    "collapsed": false,
    "pycharm": {
     "name": "#%%\n"
    }
   }
  },
  {
   "cell_type": "code",
   "execution_count": 17,
   "outputs": [],
   "source": [
    "unlabelled_df[\"label\"] = pd.Series(map(lambda pred: labels[int(pred)], Y_pred))\n",
    "unlabelled_df[\"confidence\"] = pd.Series(Y_conf, index=unlabelled_df.index)\n",
    "\n",
    "unlabelled_df = unlabelled_df[[\"repo\", \"label\", \"confidence\"]]\n",
    "unlabelled_df.to_csv(\"part_two.csv\", index=False)"
   ],
   "metadata": {
    "collapsed": false,
    "pycharm": {
     "name": "#%%\n"
    }
   }
  },
  {
   "cell_type": "code",
   "execution_count": null,
   "outputs": [],
   "source": [
    "correct = unlabelled_df[np.logical_not(selection)]\n",
    "check = unlabelled_df[selection]\n",
    "correct.to_csv(\"correct.csv\", index=False)\n",
    "check.to_csv(\"to_check.csv\", index=False)"
   ],
   "metadata": {
    "collapsed": false,
    "pycharm": {
     "name": "#%%\n"
    }
   }
  },
  {
   "cell_type": "code",
   "execution_count": null,
   "outputs": [],
   "source": [
    "print(\"Saved\")"
   ],
   "metadata": {
    "collapsed": false,
    "pycharm": {
     "name": "#%%\n"
    }
   }
  }
 ],
 "metadata": {
  "kernelspec": {
   "display_name": "Python 3",
   "language": "python",
   "name": "python3"
  },
  "language_info": {
   "codemirror_mode": {
    "name": "ipython",
    "version": 2
   },
   "file_extension": ".py",
   "mimetype": "text/x-python",
   "name": "python",
   "nbconvert_exporter": "python",
   "pygments_lexer": "ipython2",
   "version": "2.7.6"
  }
 },
 "nbformat": 4,
 "nbformat_minor": 0
}